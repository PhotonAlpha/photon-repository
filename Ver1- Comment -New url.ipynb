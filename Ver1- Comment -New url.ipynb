{
 "cells": [
  {
   "cell_type": "code",
   "execution_count": 1,
   "metadata": {
    "collapsed": true
   },
   "outputs": [],
   "source": [
    "import requests\n",
    "import json\n",
    "import time\n",
    "import simplejson\n",
    "import pandas as pd"
   ]
  },
  {
   "cell_type": "code",
   "execution_count": 2,
   "metadata": {
    "collapsed": true
   },
   "outputs": [],
   "source": [
    "def filter_none_comment(input_list):\n",
    "    '''\n",
    "    Remove none comment from list\n",
    "    '''\n",
    "    out_list = input_list.remove('此用户没有填写评论!')\n",
    "    return out_list\n",
    "\n",
    "def check_comment_no(full_content, comment_number):\n",
    "    comment_number_out = comment_number\n",
    "    for cno in range(1, comment_number, 1): \n",
    "        try:\n",
    "            content_normal_content = full_content[\"rateList\"][cno]['rateContent']\n",
    "        except:\n",
    "            comment_number_out = comment_number_out - 1\n",
    "    return comment_number_out\n",
    "            \n",
    "def save_result_to_csv(input_list, file_name):\n",
    "    df = pd.DataFrame(input_list, columns=[\"Comment\"])\n",
    "    df.to_csv(file_name, index=False)"
   ]
  },
  {
   "cell_type": "code",
   "execution_count": 3,
   "metadata": {
    "collapsed": true
   },
   "outputs": [],
   "source": [
    "def comment_scraping_wrapper(url_head, url_tail, start_page, end_page, output_filename):\n",
    "    '''\n",
    "    Please check the url that contains the information, divide from the -&currentPage=- string\n",
    "    url_head and url_tail should be string type\n",
    "    start_page and end_page should be integer type\n",
    "    '''\n",
    "    headers = {\n",
    "        'Connection': 'Qin',\n",
    "        'User-Agent': 'Windows_Norway'\n",
    "    }\n",
    "    page_result = []\n",
    "    for i_page in range(start_page, end_page, 1):\n",
    "        # Assemble the full url string\n",
    "        url = url_head + '&currentPage=%s'  % str(i_page) \n",
    "        try:\n",
    "#             tb_req = requests.get(url, headers=headers).text[15:] # String format\n",
    "            tb_req = requests.get(url).text[15:] # String format\n",
    "            tb_dict = simplejson.loads(tb_req) # Dict formati_page\n",
    "        except:\n",
    "            print('Return Json error'  + ' at page: ' + str(i_page))\n",
    "            print(url)\n",
    "        else: \n",
    "            try:\n",
    "            # Second try to check if it success or not\n",
    "#                 tb_req = requests.get(url, headers=headers).text[15:] # String format\n",
    "                tb_req = requests.get(url).text[15:] # String format\n",
    "                tb_dict = simplejson.loads(tb_req) # Dict formati_page\n",
    "            except:\n",
    "                print('Second try Return Json error' + ' at page: ' + str(i_page))\n",
    "                print(url)\n",
    "            else:\n",
    "                tb_json = json.dumps(tb_dict, indent=5)  \n",
    "                \n",
    "                review_j = json.loads(tb_json)\n",
    "                # Predefined number based on taobao webpage layout\n",
    "                comment_no = 20\n",
    "                # To fix the number if comment number smaller than pre-defined value\n",
    "                comment_no = check_comment_no(review_j, comment_no)\n",
    "                print('Current Page Comment Number : ' + str(comment_no))\n",
    "                current_page_result = []\n",
    "                for p in range(1, comment_no, 1):\n",
    "                # From the first time comment\n",
    "                    content_normal_content = review_j[\"rateList\"][p]['rateContent']\n",
    "                    print(content_normal_content)\n",
    "                    time.sleep(1) \n",
    "                    current_page_result  = current_page_result  + [content_normal_content] \n",
    "                time.sleep(4)       \n",
    "            page_result = page_result + current_page_result\n",
    "    save_result_to_csv(page_result, output_filename)\n",
    "    return page_result\n",
    "    "
   ]
  },
  {
   "cell_type": "code",
   "execution_count": 4,
   "metadata": {
    "collapsed": true
   },
   "outputs": [],
   "source": [
    "## Input info\n",
    "# url_head = 'https://rate.tmall.com/list_detail_rate.htm?itemId=41597235211&spuId=721230932&sellerId=857431629&order=3'\n",
    "url_head = 'http://rate.tmall.com/list_detail_rate.htm?itemId=558835242601&sellerId=3334715774'\n",
    "# url_head = 'https://rate.tmall.com/list_detail_rate.htm?itemId=558835242601&sellerId=3334715774&currentPage=2'\n",
    "url_tail = ''\n",
    "start_page = 1\n",
    "end_page = 10\n",
    "output_filename = '021801_comment_result_page_' + str(start_page)+ '_to_' + str(end_page) + '.csv'"
   ]
  },
  {
   "cell_type": "code",
   "execution_count": null,
   "metadata": {
    "collapsed": true
   },
   "outputs": [],
   "source": [
    "page_output_result = comment_scraping_wrapper(url_head, url_tail, start_page, end_page, output_filename)"
   ]
  },
  {
   "cell_type": "code",
   "execution_count": null,
   "metadata": {
    "collapsed": true
   },
   "outputs": [],
   "source": [
    "len(page_output_result)"
   ]
  },
  {
   "cell_type": "code",
   "execution_count": null,
   "metadata": {
    "collapsed": true
   },
   "outputs": [],
   "source": [
    "# Page 1 - 10\n",
    "page_output_result = comment_scraping_wrapper(url_head, url_tail, start_page, end_page, output_filename)"
   ]
  },
  {
   "cell_type": "code",
   "execution_count": null,
   "metadata": {
    "collapsed": true,
    "scrolled": true
   },
   "outputs": [],
   "source": [
    "# Page 10 - 20\n",
    "page_output_result = comment_scraping_wrapper(url_head, url_tail, start_page, end_page, output_filename)"
   ]
  },
  {
   "cell_type": "code",
   "execution_count": null,
   "metadata": {
    "collapsed": true,
    "scrolled": true
   },
   "outputs": [],
   "source": [
    "# Page 20 - 30\n",
    "page_output_result = comment_scraping_wrapper(url_head, url_tail, start_page, end_page, output_filename)"
   ]
  },
  {
   "cell_type": "code",
   "execution_count": null,
   "metadata": {
    "collapsed": true,
    "scrolled": true
   },
   "outputs": [],
   "source": [
    "# Page 30 - 40\n",
    "page_output_result = comment_scraping_wrapper(url_head, url_tail, start_page, end_page, output_filename)"
   ]
  },
  {
   "cell_type": "code",
   "execution_count": null,
   "metadata": {
    "collapsed": true,
    "scrolled": true
   },
   "outputs": [],
   "source": [
    "# Page 40 - 70\n",
    "page_output_result = comment_scraping_wrapper(url_head, url_tail, start_page, end_page, output_filename)"
   ]
  },
  {
   "cell_type": "code",
   "execution_count": null,
   "metadata": {
    "collapsed": true
   },
   "outputs": [],
   "source": [
    "# Page 70 - 100\n",
    "page_output_result = comment_scraping_wrapper(url_head, url_tail, start_page, end_page, output_filename)"
   ]
  },
  {
   "cell_type": "markdown",
   "metadata": {},
   "source": [
    "### Test Environment"
   ]
  },
  {
   "cell_type": "code",
   "execution_count": null,
   "metadata": {
    "collapsed": true
   },
   "outputs": [],
   "source": [
    "test_url = 'http://rate.tmall.com/list_detail_rate.htm?itemId=558835242601&sellerId=3334715774&currentPage=55'"
   ]
  },
  {
   "cell_type": "code",
   "execution_count": null,
   "metadata": {
    "collapsed": true
   },
   "outputs": [],
   "source": [
    "test_tb_req = requests.get(test_url).text[15:] \n",
    "test_tb_dict = simplejson.loads(tb_req) "
   ]
  },
  {
   "cell_type": "code",
   "execution_count": null,
   "metadata": {
    "collapsed": true,
    "scrolled": true
   },
   "outputs": [],
   "source": [
    "print(test_tb_dict)"
   ]
  },
  {
   "cell_type": "code",
   "execution_count": null,
   "metadata": {
    "collapsed": true
   },
   "outputs": [],
   "source": []
  }
 ],
 "metadata": {
  "anaconda-cloud": {},
  "kernelspec": {
   "display_name": "Python 3",
   "language": "python",
   "name": "python3"
  },
  "language_info": {
   "codemirror_mode": {
    "name": "ipython",
    "version": 3
   },
   "file_extension": ".py",
   "mimetype": "text/x-python",
   "name": "python",
   "nbconvert_exporter": "python",
   "pygments_lexer": "ipython3",
   "version": "3.6.3"
  }
 },
 "nbformat": 4,
 "nbformat_minor": 1
}
